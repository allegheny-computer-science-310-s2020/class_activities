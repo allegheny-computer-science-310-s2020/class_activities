{
  "nbformat": 4,
  "nbformat_minor": 0,
  "metadata": {
    "colab": {
      "name": "tensorflow_example.ipynb",
      "provenance": []
    },
    "kernelspec": {
      "name": "python3",
      "display_name": "Python 3"
    }
  },
  "cells": [
    {
      "cell_type": "code",
      "metadata": {
        "id": "NYLMJ0tSeinp",
        "colab_type": "code",
        "colab": {}
      },
      "source": [
        "import tensorflow as tf"
      ],
      "execution_count": 0,
      "outputs": []
    },
    {
      "cell_type": "markdown",
      "metadata": {
        "id": "UCZ2a7egemN-",
        "colab_type": "text"
      },
      "source": [
        "First, create a TensorFlow constants and multiply them. "
      ]
    },
    {
      "cell_type": "code",
      "metadata": {
        "id": "GKNnq8sbeuAL",
        "colab_type": "code",
        "colab": {
          "base_uri": "https://localhost:8080/",
          "height": 35
        },
        "outputId": "d072043b-1176-4dbd-c8af-a2933a7e79e9"
      },
      "source": [
        "# Initialize two constants\n",
        "x1 = tf.constant([1,2,3,4])\n",
        "x2 = tf.constant([5,6,7,8])\n",
        "\n",
        "# Multiply\n",
        "result = tf.multiply(x1, x2)\n",
        "\n",
        "# Initialize Session and run `result`\n",
        "with tf.Session() as sess:\n",
        "  output = sess.run(result)\n",
        "  print(output)"
      ],
      "execution_count": 12,
      "outputs": [
        {
          "output_type": "stream",
          "text": [
            "[ 5 12 21 32]\n"
          ],
          "name": "stdout"
        }
      ]
    },
    {
      "cell_type": "markdown",
      "metadata": {
        "id": "W7fblMC9e7SQ",
        "colab_type": "text"
      },
      "source": [
        "Create TensorFlow variables. The first element in both is the value to be\n",
        "assigned the constant/variable when it is initialised.\n",
        "The second is an optional name string which can be used to\n",
        "label the constant/variable - handy for visualisations"
      ]
    },
    {
      "cell_type": "code",
      "metadata": {
        "id": "wPH_3GhafCoO",
        "colab_type": "code",
        "colab": {}
      },
      "source": [
        "y = tf.Variable(2.0, name='y')\n",
        "z = tf.Variable(1.0, name='z')\n",
        "const = tf.constant(5.0, name=\"const\")"
      ],
      "execution_count": 0,
      "outputs": []
    },
    {
      "cell_type": "markdown",
      "metadata": {
        "id": "zRO2uge5fIKi",
        "colab_type": "text"
      },
      "source": [
        "Create some operations"
      ]
    },
    {
      "cell_type": "code",
      "metadata": {
        "id": "FWXi_9y0fJ6g",
        "colab_type": "code",
        "colab": {
          "base_uri": "https://localhost:8080/",
          "height": 35
        },
        "outputId": "17607c3d-a4c7-4729-ab13-fe3aaceff068"
      },
      "source": [
        "l = tf.add(y, z, name='l')\n",
        "m = tf.add(z, const, name='m')\n",
        "x = tf.multiply(l, m, name='x')\n",
        "\n",
        "print(x)"
      ],
      "execution_count": 19,
      "outputs": [
        {
          "output_type": "stream",
          "text": [
            "Tensor(\"l_5:0\", shape=(), dtype=float32)\n"
          ],
          "name": "stdout"
        }
      ]
    },
    {
      "cell_type": "markdown",
      "metadata": {
        "id": "G85311RVfNoe",
        "colab_type": "text"
      },
      "source": [
        "Setup the variable initialisation"
      ]
    }
  ]
}